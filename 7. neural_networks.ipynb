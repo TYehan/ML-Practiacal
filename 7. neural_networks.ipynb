{
 "cells": [
  {
   "cell_type": "code",
   "execution_count": 182,
   "id": "eb5fc41f",
   "metadata": {},
   "outputs": [],
   "source": [
    "import numpy as np"
   ]
  },
  {
   "cell_type": "code",
   "execution_count": 183,
   "id": "009b844f",
   "metadata": {},
   "outputs": [],
   "source": [
    "np.random.seed(1)"
   ]
  },
  {
   "cell_type": "code",
   "execution_count": 184,
   "id": "406fb5da",
   "metadata": {},
   "outputs": [],
   "source": [
    "def sigmoid(x):\n",
    "    return 1/(1+np.exp(-x))"
   ]
  },
  {
   "cell_type": "code",
   "execution_count": 185,
   "id": "35b0f03f",
   "metadata": {},
   "outputs": [
    {
     "data": {
      "text/plain": [
       "np.float64(0.7310585786300049)"
      ]
     },
     "execution_count": 185,
     "metadata": {},
     "output_type": "execute_result"
    }
   ],
   "source": [
    "sigmoid(1)"
   ]
  },
  {
   "cell_type": "code",
   "execution_count": 186,
   "id": "0462a944",
   "metadata": {},
   "outputs": [],
   "source": [
    "def sigmoid_derivation(output):\n",
    "    return output*(1-output)"
   ]
  },
  {
   "cell_type": "code",
   "execution_count": 187,
   "id": "d452310c",
   "metadata": {},
   "outputs": [],
   "source": [
    "def relu(x):\n",
    "    return np.maximum(0,x)"
   ]
  },
  {
   "cell_type": "code",
   "execution_count": 188,
   "metadata": {},
   "outputs": [],
   "source": [
    "def rel_derivation(x):\n",
    "    return (x>0)"
   ]
  },
  {
   "cell_type": "code",
   "execution_count": 189,
   "id": "310a4e00",
   "metadata": {},
   "outputs": [],
   "source": [
    "x = np.array([\n",
    "    [0,0],\n",
    "    [0,1],\n",
    "    [1,0],\n",
    "    [1,1]\n",
    "    ])"
   ]
  },
  {
   "cell_type": "code",
   "execution_count": 190,
   "id": "052dd42a",
   "metadata": {},
   "outputs": [],
   "source": [
    "y = np.array([\n",
    "    [0],\n",
    "    [1],\n",
    "    [1],\n",
    "    [0]\n",
    "    ])"
   ]
  },
  {
   "cell_type": "code",
   "execution_count": 191,
   "id": "d0224005",
   "metadata": {},
   "outputs": [],
   "source": [
    "input_size = 2\n",
    "hidden_size = 2\n",
    "output_size = 1"
   ]
  },
  {
   "cell_type": "code",
   "execution_count": 192,
   "id": "c78a4a3f",
   "metadata": {},
   "outputs": [],
   "source": [
    "w1 = np.random.rand(input_size, hidden_size)\n",
    "h1 = np.random.rand(1, hidden_size)\n",
    "\n",
    "w2 = np.random.rand(hidden_size, output_size)\n",
    "h2 = np.random.rand(1, output_size)"
   ]
  },
  {
   "cell_type": "code",
   "execution_count": 193,
   "id": "53ade886",
   "metadata": {},
   "outputs": [],
   "source": [
    "learning_rate = 0.1\n",
    "epochs = 1000"
   ]
  },
  {
   "cell_type": "code",
   "execution_count": 194,
   "id": "04f3b84b",
   "metadata": {},
   "outputs": [
    {
     "name": "stdout",
     "output_type": "stream",
     "text": [
      "Epoch 100/1000, Loss: 0.2466\n",
      "Epoch 200/1000, Loss: 0.2276\n",
      "Epoch 300/1000, Loss: 0.1923\n",
      "Epoch 400/1000, Loss: 0.1707\n",
      "Epoch 500/1000, Loss: 0.1508\n",
      "Epoch 600/1000, Loss: 0.1205\n",
      "Epoch 700/1000, Loss: 0.0819\n",
      "Epoch 800/1000, Loss: 0.0511\n",
      "Epoch 900/1000, Loss: 0.0330\n",
      "Epoch 1000/1000, Loss: 0.0226\n",
      "\n",
      "Final prediction after training:\n",
      "Input: [0 0], Predicted: [0.13520967], Actual: [0]\n",
      "Input: [0 1], Predicted: [0.7694331], Actual: [1]\n",
      "Input: [1 0], Predicted: [0.91030675], Actual: [1]\n",
      "Input: [1 1], Predicted: [0.10350271], Actual: [0]\n"
     ]
    }
   ],
   "source": [
    "# Initialize biases\n",
    "b1 = np.zeros((1, hidden_size))\n",
    "b2 = np.zeros((1, output_size))\n",
    "\n",
    "\n",
    "for epoch in range(epochs):\n",
    "    # Forward Pass(forward propagation)\n",
    "    z1 = np.dot(x, w1) + b1\n",
    "    a1 = relu(z1)\n",
    "\n",
    "    z2 = np.dot(a1, w2) + b2\n",
    "    a2 = sigmoid(z2)\n",
    "\n",
    "    loss = np.mean((y - a2)**2)\n",
    "\n",
    "    # Backward Pass(backward propagation)\n",
    "    da2 = a2 - y\n",
    "    dz2 = da2 * sigmoid_derivation(a2)\n",
    "    dw2 = np.dot(a1.T, dz2)\n",
    "    db2 = np.sum(dz2, axis=0, keepdims=True)\n",
    "\n",
    "    da1 = np.dot(dz2, w2.T)\n",
    "    dz1 = da1 * rel_derivation(a1)\n",
    "    dw1 = np.dot(x.T, dz1)\n",
    "    db1 = np.sum(dz1, axis=0, keepdims=True)\n",
    "\n",
    "    # Update weights and biases\n",
    "    w2 -= learning_rate * dw2\n",
    "    w1 -= learning_rate * dw1\n",
    "\n",
    "    b2 -= learning_rate * db2\n",
    "    b1 -= learning_rate * db1\n",
    "\n",
    "    if (epoch+1) % 100 == 0:\n",
    "        print(f'Epoch {epoch+1}/{epochs}, Loss: {loss:.4f}')\n",
    "\n",
    "# Print the weights and biases\n",
    "print()\n",
    "print(f'Final prediction after training:')\n",
    "\n",
    "z1 = np.dot(x,w1) + b1\n",
    "a1 = relu(z1)\n",
    "\n",
    "z2 = np.dot(a1,w2) + b2\n",
    "a2 = sigmoid(z2)\n",
    "\n",
    "\n",
    "# Test the model\n",
    "for i in range(len(x)):\n",
    "    print(f'Input: {x[i]}, Predicted: {a2[i]}, Actual: {y[i]}')\n"
   ]
  }
 ],
 "metadata": {
  "kernelspec": {
   "display_name": ".venv",
   "language": "python",
   "name": "python3"
  },
  "language_info": {
   "codemirror_mode": {
    "name": "ipython",
    "version": 3
   },
   "file_extension": ".py",
   "mimetype": "text/x-python",
   "name": "python",
   "nbconvert_exporter": "python",
   "pygments_lexer": "ipython3",
   "version": "3.12.6"
  }
 },
 "nbformat": 4,
 "nbformat_minor": 5
}
