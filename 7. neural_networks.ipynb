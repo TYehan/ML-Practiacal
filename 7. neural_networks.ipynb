{
 "cells": [
  {
   "cell_type": "code",
   "execution_count": 28,
   "id": "eb5fc41f",
   "metadata": {},
   "outputs": [],
   "source": [
    "import numpy as np"
   ]
  },
  {
   "cell_type": "code",
   "execution_count": 29,
   "id": "009b844f",
   "metadata": {},
   "outputs": [],
   "source": [
    "np.random.seed(1)"
   ]
  },
  {
   "cell_type": "code",
   "execution_count": 30,
   "id": "406fb5da",
   "metadata": {},
   "outputs": [],
   "source": [
    "def sigmoid(x):\n",
    "    return 1/(1+np.exp(-x))"
   ]
  },
  {
   "cell_type": "code",
   "execution_count": 31,
   "id": "35b0f03f",
   "metadata": {},
   "outputs": [
    {
     "data": {
      "text/plain": [
       "np.float64(0.7310585786300049)"
      ]
     },
     "execution_count": 31,
     "metadata": {},
     "output_type": "execute_result"
    }
   ],
   "source": [
    "sigmoid(1)"
   ]
  },
  {
   "cell_type": "code",
   "execution_count": 32,
   "id": "0462a944",
   "metadata": {},
   "outputs": [],
   "source": [
    "def sigmoid_derivation(output):\n",
    "    return output*(1-output)"
   ]
  },
  {
   "cell_type": "code",
   "execution_count": 33,
   "id": "d452310c",
   "metadata": {},
   "outputs": [],
   "source": [
    "def relu(x):\n",
    "    return np.maximum(0,x)"
   ]
  },
  {
   "cell_type": "code",
   "execution_count": 34,
   "metadata": {},
   "outputs": [],
   "source": [
    "def rel_derivation(x):\n",
    "    return (x>0)"
   ]
  },
  {
   "cell_type": "code",
   "execution_count": 35,
   "id": "310a4e00",
   "metadata": {},
   "outputs": [],
   "source": [
    "x = np.array([\n",
    "    [0,0],\n",
    "    [0,1],\n",
    "    [1,0],\n",
    "    [1,1]\n",
    "    ])"
   ]
  },
  {
   "cell_type": "code",
   "execution_count": 36,
   "id": "052dd42a",
   "metadata": {},
   "outputs": [],
   "source": [
    "y = np.array([\n",
    "    [0],\n",
    "    [1],\n",
    "    [1],\n",
    "    [0]\n",
    "    ])"
   ]
  },
  {
   "cell_type": "code",
   "execution_count": 37,
   "id": "d0224005",
   "metadata": {},
   "outputs": [],
   "source": [
    "input_size = 2\n",
    "hidden_size = 2\n",
    "output_size = 1"
   ]
  },
  {
   "cell_type": "code",
   "execution_count": 38,
   "id": "c78a4a3f",
   "metadata": {},
   "outputs": [],
   "source": [
    "w1 = np.random.rand(input_size, hidden_size)\n",
    "h1 = np.zeros((1, hidden_size))\n",
    "\n",
    "w2 = np.random.rand(hidden_size, output_size)\n",
    "h2 = np.zeros((1, output_size))"
   ]
  },
  {
   "cell_type": "code",
   "execution_count": 39,
   "id": "53ade886",
   "metadata": {},
   "outputs": [],
   "source": [
    "learning_rate = 0.1\n",
    "epochs = 10000"
   ]
  },
  {
   "cell_type": "code",
   "execution_count": 40,
   "id": "04f3b84b",
   "metadata": {},
   "outputs": [
    {
     "name": "stdout",
     "output_type": "stream",
     "text": [
      "Epoch 100/10000, Loss: 0.2474\n",
      "Epoch 200/10000, Loss: 0.2306\n",
      "Epoch 300/10000, Loss: 0.1957\n",
      "Epoch 400/10000, Loss: 0.1692\n",
      "Epoch 500/10000, Loss: 0.1433\n",
      "Epoch 600/10000, Loss: 0.1089\n",
      "Epoch 700/10000, Loss: 0.0711\n",
      "Epoch 800/10000, Loss: 0.0442\n",
      "Epoch 900/10000, Loss: 0.0292\n",
      "Epoch 1000/10000, Loss: 0.0205\n",
      "Epoch 1100/10000, Loss: 0.0153\n",
      "Epoch 1200/10000, Loss: 0.0119\n",
      "Epoch 1300/10000, Loss: 0.0096\n",
      "Epoch 1400/10000, Loss: 0.0080\n",
      "Epoch 1500/10000, Loss: 0.0068\n",
      "Epoch 1600/10000, Loss: 0.0059\n",
      "Epoch 1700/10000, Loss: 0.0052\n",
      "Epoch 1800/10000, Loss: 0.0046\n",
      "Epoch 1900/10000, Loss: 0.0041\n",
      "Epoch 2000/10000, Loss: 0.0037\n",
      "Epoch 2100/10000, Loss: 0.0034\n",
      "Epoch 2200/10000, Loss: 0.0031\n",
      "Epoch 2300/10000, Loss: 0.0029\n",
      "Epoch 2400/10000, Loss: 0.0027\n",
      "Epoch 2500/10000, Loss: 0.0025\n",
      "Epoch 2600/10000, Loss: 0.0023\n",
      "Epoch 2700/10000, Loss: 0.0022\n",
      "Epoch 2800/10000, Loss: 0.0020\n",
      "Epoch 2900/10000, Loss: 0.0019\n",
      "Epoch 3000/10000, Loss: 0.0018\n",
      "Epoch 3100/10000, Loss: 0.0017\n",
      "Epoch 3200/10000, Loss: 0.0016\n",
      "Epoch 3300/10000, Loss: 0.0016\n",
      "Epoch 3400/10000, Loss: 0.0015\n",
      "Epoch 3500/10000, Loss: 0.0014\n",
      "Epoch 3600/10000, Loss: 0.0014\n",
      "Epoch 3700/10000, Loss: 0.0013\n",
      "Epoch 3800/10000, Loss: 0.0013\n",
      "Epoch 3900/10000, Loss: 0.0012\n",
      "Epoch 4000/10000, Loss: 0.0012\n",
      "Epoch 4100/10000, Loss: 0.0011\n",
      "Epoch 4200/10000, Loss: 0.0011\n",
      "Epoch 4300/10000, Loss: 0.0011\n",
      "Epoch 4400/10000, Loss: 0.0010\n",
      "Epoch 4500/10000, Loss: 0.0010\n",
      "Epoch 4600/10000, Loss: 0.0010\n",
      "Epoch 4700/10000, Loss: 0.0009\n",
      "Epoch 4800/10000, Loss: 0.0009\n",
      "Epoch 4900/10000, Loss: 0.0009\n",
      "Epoch 5000/10000, Loss: 0.0009\n",
      "Epoch 5100/10000, Loss: 0.0008\n",
      "Epoch 5200/10000, Loss: 0.0008\n",
      "Epoch 5300/10000, Loss: 0.0008\n",
      "Epoch 5400/10000, Loss: 0.0008\n",
      "Epoch 5500/10000, Loss: 0.0007\n",
      "Epoch 5600/10000, Loss: 0.0007\n",
      "Epoch 5700/10000, Loss: 0.0007\n",
      "Epoch 5800/10000, Loss: 0.0007\n",
      "Epoch 5900/10000, Loss: 0.0007\n",
      "Epoch 6000/10000, Loss: 0.0007\n",
      "Epoch 6100/10000, Loss: 0.0007\n",
      "Epoch 6200/10000, Loss: 0.0006\n",
      "Epoch 6300/10000, Loss: 0.0006\n",
      "Epoch 6400/10000, Loss: 0.0006\n",
      "Epoch 6500/10000, Loss: 0.0006\n",
      "Epoch 6600/10000, Loss: 0.0006\n",
      "Epoch 6700/10000, Loss: 0.0006\n",
      "Epoch 6800/10000, Loss: 0.0006\n",
      "Epoch 6900/10000, Loss: 0.0006\n",
      "Epoch 7000/10000, Loss: 0.0005\n",
      "Epoch 7100/10000, Loss: 0.0005\n",
      "Epoch 7200/10000, Loss: 0.0005\n",
      "Epoch 7300/10000, Loss: 0.0005\n",
      "Epoch 7400/10000, Loss: 0.0005\n",
      "Epoch 7500/10000, Loss: 0.0005\n",
      "Epoch 7600/10000, Loss: 0.0005\n",
      "Epoch 7700/10000, Loss: 0.0005\n",
      "Epoch 7800/10000, Loss: 0.0005\n",
      "Epoch 7900/10000, Loss: 0.0005\n",
      "Epoch 8000/10000, Loss: 0.0005\n",
      "Epoch 8100/10000, Loss: 0.0005\n",
      "Epoch 8200/10000, Loss: 0.0004\n",
      "Epoch 8300/10000, Loss: 0.0004\n",
      "Epoch 8400/10000, Loss: 0.0004\n",
      "Epoch 8500/10000, Loss: 0.0004\n",
      "Epoch 8600/10000, Loss: 0.0004\n",
      "Epoch 8700/10000, Loss: 0.0004\n",
      "Epoch 8800/10000, Loss: 0.0004\n",
      "Epoch 8900/10000, Loss: 0.0004\n",
      "Epoch 9000/10000, Loss: 0.0004\n",
      "Epoch 9100/10000, Loss: 0.0004\n",
      "Epoch 9200/10000, Loss: 0.0004\n",
      "Epoch 9300/10000, Loss: 0.0004\n",
      "Epoch 9400/10000, Loss: 0.0004\n",
      "Epoch 9500/10000, Loss: 0.0004\n",
      "Epoch 9600/10000, Loss: 0.0004\n",
      "Epoch 9700/10000, Loss: 0.0004\n",
      "Epoch 9800/10000, Loss: 0.0004\n",
      "Epoch 9900/10000, Loss: 0.0003\n",
      "Epoch 10000/10000, Loss: 0.0003\n",
      "\n",
      "Final prediction after training:\n",
      "Input: [0 0], Predicted: [0.0144879], Actual: [0]\n",
      "Input: [0 1], Predicted: [0.96998959], Actual: [1]\n",
      "Input: [1 0], Predicted: [0.98943211], Actual: [1]\n",
      "Input: [1 1], Predicted: [0.01262386], Actual: [0]\n"
     ]
    }
   ],
   "source": [
    "# Initialize biases\n",
    "b1 = np.zeros((1, hidden_size))\n",
    "b2 = np.zeros((1, output_size))\n",
    "\n",
    "\n",
    "for epoch in range(epochs):\n",
    "    # Forward Pass(forward propagation)\n",
    "    z1 = np.dot(x, w1) + b1\n",
    "    a1 = relu(z1)\n",
    "\n",
    "    z2 = np.dot(a1, w2) + b2\n",
    "    a2 = sigmoid(z2)\n",
    "\n",
    "    loss = np.mean((y - a2)**2)\n",
    "\n",
    "    # Backward Pass(backward propagation)\n",
    "    da2 = a2 - y\n",
    "    dz2 = da2 * sigmoid_derivation(a2)\n",
    "    dw2 = np.dot(a1.T, dz2)\n",
    "    db2 = np.sum(dz2, axis=0, keepdims=True)\n",
    "\n",
    "    da1 = np.dot(dz2, w2.T)\n",
    "    dz1 = da1 * rel_derivation(a1)\n",
    "    dw1 = np.dot(x.T, dz1)\n",
    "    db1 = np.sum(dz1, axis=0, keepdims=True)\n",
    "\n",
    "    # Update weights and biases\n",
    "    w2 -= learning_rate * dw2\n",
    "    w1 -= learning_rate * dw1\n",
    "\n",
    "    b2 -= learning_rate * db2\n",
    "    b1 -= learning_rate * db1\n",
    "\n",
    "    if (epoch+1) % 100 == 0:\n",
    "        print(f'Epoch {epoch+1}/{epochs}, Loss: {loss:.4f}')\n",
    "\n",
    "# Print the weights and biases\n",
    "print()\n",
    "print(f'Final prediction after training:')\n",
    "\n",
    "z1 = np.dot(x,w1) + b1\n",
    "a1 = relu(z1)\n",
    "\n",
    "z2 = np.dot(a1,w2) + b2\n",
    "a2 = sigmoid(z2)\n",
    "\n",
    "\n",
    "# Test the model\n",
    "for i in range(len(x)):\n",
    "    print(f'Input: {x[i]}, Predicted: {a2[i]}, Actual: {y[i]}')\n"
   ]
  }
 ],
 "metadata": {
  "kernelspec": {
   "display_name": ".venv",
   "language": "python",
   "name": "python3"
  },
  "language_info": {
   "codemirror_mode": {
    "name": "ipython",
    "version": 3
   },
   "file_extension": ".py",
   "mimetype": "text/x-python",
   "name": "python",
   "nbconvert_exporter": "python",
   "pygments_lexer": "ipython3",
   "version": "3.12.6"
  }
 },
 "nbformat": 4,
 "nbformat_minor": 5
}
