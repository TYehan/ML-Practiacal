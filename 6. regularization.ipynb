{
 "cells": [
  {
   "cell_type": "code",
   "execution_count": 18,
   "id": "e5cb5f6d",
   "metadata": {},
   "outputs": [],
   "source": [
    "import numpy as numpy\n",
    "import pandas as pd\n",
    "from sklearn.datasets import load_breast_cancer\n",
    "from sklearn.model_selection import train_test_split, cross_val_score\n",
    "from sklearn.preprocessing import StandardScaler\n",
    "from sklearn.linear_model import LogisticRegression\n",
    "from sklearn.tree import DecisionTreeClassifier\n",
    "from sklearn.ensemble import RandomForestClassifier\n",
    "from sklearn.metrics import accuracy_score, classification_report"
   ]
  },
  {
   "cell_type": "code",
   "execution_count": 19,
   "id": "fe6416ee",
   "metadata": {},
   "outputs": [],
   "source": [
    "data = load_breast_cancer()\n",
    "x = data.data\n",
    "y = data.target"
   ]
  },
  {
   "cell_type": "code",
   "execution_count": 20,
   "id": "162fc38b",
   "metadata": {},
   "outputs": [],
   "source": [
    "x_train, x_test, y_train, y_test = train_test_split(x, y, test_size=0.2, random_state=42)"
   ]
  },
  {
   "cell_type": "code",
   "execution_count": 21,
   "id": "01d9874f",
   "metadata": {},
   "outputs": [],
   "source": [
    "scaler = StandardScaler()\n",
    "x_train_scaled = scaler.fit_transform(x_train)\n",
    "x_test_scaled = scaler.fit_transform(x_test)"
   ]
  },
  {
   "cell_type": "code",
   "execution_count": 22,
   "id": "3ec701c3",
   "metadata": {},
   "outputs": [],
   "source": [
    "# Dictionary of models\n",
    "# Each model is initialized with its default parameters and can be trained and evaluated using cross-validation and accuracy score\n",
    "\n",
    "models = {\n",
    "    \"Logistic Regression\": LogisticRegression(penalty=None, solver='lbfgs', max_iter=1000),\n",
    "    \"Decision Tree\": DecisionTreeClassifier(random_state=42),\n",
    "    \"Random Forest\": RandomForestClassifier(random_state=42)\n",
    "}"
   ]
  },
  {
   "cell_type": "code",
   "execution_count": 23,
   "id": "98c6620c",
   "metadata": {},
   "outputs": [],
   "source": [
    "results = {}"
   ]
  },
  {
   "cell_type": "code",
   "execution_count": 24,
   "id": "94e6bd4c",
   "metadata": {},
   "outputs": [
    {
     "name": "stdout",
     "output_type": "stream",
     "text": [
      "Logistic Regression\n",
      "Train Accuracy: 1.0000\n",
      "Test Accuracy: 0.9035\n",
      "Cross-Validation Score: 0.9582\n",
      "\n",
      "Decision Tree\n",
      "Train Accuracy: 1.0000\n",
      "Test Accuracy: 0.9211\n",
      "Cross-Validation Score: 0.9165\n",
      "\n",
      "Random Forest\n",
      "Train Accuracy: 1.0000\n",
      "Test Accuracy: 0.9649\n",
      "Cross-Validation Score: 0.9582\n",
      "\n"
     ]
    }
   ],
   "source": [
    "for name, model in models.items():\n",
    "    model.fit(x_train_scaled, y_train)\n",
    "    train_acc = accuracy_score(y_train, model.predict(x_train_scaled))\n",
    "    test_acc = accuracy_score(y_test, model.predict(x_test_scaled))\n",
    "    cv_score = cross_val_score(model, x_train_scaled, y_train, cv=5).mean()\n",
    "\n",
    "    results[name] = {\n",
    "        \"Train Accuracy\": train_acc,\n",
    "        \"Test Accuracy\": test_acc,\n",
    "        \"Cross-Validation Score\": cv_score\n",
    "    }\n",
    "\n",
    "    print(f\"{name}\")\n",
    "    print(f\"Train Accuracy: {train_acc:.4f}\")\n",
    "    print(f\"Test Accuracy: {test_acc:.4f}\")\n",
    "    print(f\"Cross-Validation Score: {cv_score:.4f}\")\n",
    "    print()\n",
    "\n"
   ]
  },
  {
   "cell_type": "code",
   "execution_count": 26,
   "id": "89ab63cb",
   "metadata": {},
   "outputs": [
    {
     "name": "stdout",
     "output_type": "stream",
     "text": [
      "Logistic Regression\n",
      "Train Accuracy: 0.9868\n",
      "Test Accuracy: 0.9825\n",
      "Cross-Validation Score: 0.9736\n",
      "\n",
      "Decision Tree\n",
      "Train Accuracy: 1.0000\n",
      "Test Accuracy: 0.9211\n",
      "Cross-Validation Score: 0.9165\n",
      "\n",
      "Random Forest\n",
      "Train Accuracy: 1.0000\n",
      "Test Accuracy: 0.9649\n",
      "Cross-Validation Score: 0.9582\n",
      "\n"
     ]
    }
   ],
   "source": [
    "models = {\n",
    "    \"Logistic Regression\": LogisticRegression(penalty='l2', solver='lbfgs', max_iter=1000),\n",
    "    \"Decision Tree\": DecisionTreeClassifier(random_state=42),\n",
    "    \"Random Forest\": RandomForestClassifier(random_state=42)\n",
    "}\n",
    "\n",
    "regularized_result = {}\n",
    "\n",
    "for name, model in models.items():\n",
    "    model.fit(x_train_scaled, y_train)\n",
    "    train_acc = accuracy_score(y_train, model.predict(x_train_scaled))\n",
    "    test_acc = accuracy_score(y_test, model.predict(x_test_scaled))\n",
    "    cv_score = cross_val_score(model, x_train_scaled, y_train, cv=5).mean()\n",
    "\n",
    "    regularized_result[name] = {\n",
    "        \"Train Accuracy\": train_acc,\n",
    "        \"Test Accuracy\": test_acc,\n",
    "        \"Cross-Validation Score\": cv_score\n",
    "    }\n",
    "\n",
    "    print(f\"{name}\")\n",
    "    print(f\"Train Accuracy: {train_acc:.4f}\")\n",
    "    print(f\"Test Accuracy: {test_acc:.4f}\")\n",
    "    print(f\"Cross-Validation Score: {cv_score:.4f}\")\n",
    "    print()"
   ]
  }
 ],
 "metadata": {
  "kernelspec": {
   "display_name": ".venv",
   "language": "python",
   "name": "python3"
  },
  "language_info": {
   "codemirror_mode": {
    "name": "ipython",
    "version": 3
   },
   "file_extension": ".py",
   "mimetype": "text/x-python",
   "name": "python",
   "nbconvert_exporter": "python",
   "pygments_lexer": "ipython3",
   "version": "3.12.6"
  }
 },
 "nbformat": 4,
 "nbformat_minor": 5
}
